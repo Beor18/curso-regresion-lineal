{
  "nbformat": 4,
  "nbformat_minor": 0,
  "metadata": {
    "colab": {
      "name": "linearRegresion.ipynb",
      "provenance": [],
      "collapsed_sections": [],
      "authorship_tag": "ABX9TyPP3teXvopVh3oLgFCrZDjS",
      "include_colab_link": true
    },
    "kernelspec": {
      "name": "python3",
      "display_name": "Python 3"
    }
  },
  "cells": [
    {
      "cell_type": "markdown",
      "metadata": {
        "id": "view-in-github",
        "colab_type": "text"
      },
      "source": [
        "<a href=\"https://colab.research.google.com/github/Beor18/curso-regresion-lineal/blob/master/linearRegresion.ipynb\" target=\"_parent\"><img src=\"https://colab.research.google.com/assets/colab-badge.svg\" alt=\"Open In Colab\"/></a>"
      ]
    },
    {
      "cell_type": "code",
      "metadata": {
        "id": "UyUi0V6cmpxt",
        "colab_type": "code",
        "colab": {
          "base_uri": "https://localhost:8080/",
          "height": 296
        },
        "outputId": "1a28850e-2e72-4eed-92d0-9abf1f956728"
      },
      "source": [
        "import numpy as np\n",
        "import matplotlib.pyplot as plt\n",
        "\n",
        "def estimate_b0_b1(x, y):\n",
        "    n = np.size(x)\n",
        "    # obtenemos los promedios de x y de y\n",
        "    m_x, m_y = np.mean(x), np.mean(y)\n",
        "\n",
        "    # Calcular sumatoria de XY sumatoria de XX\n",
        "    Sumatoria_xy = np.sum((x-m_x)*(y-m_y))\n",
        "    Sumatoria_xx = np.sum(x*(x-m_x))\n",
        "\n",
        "    #coeficientes de regresion\n",
        "    b_1 = Sumatoria_xy / Sumatoria_xx\n",
        "    b_0 = m_y - b_1*m_x\n",
        "\n",
        "    return(b_0, b_1)\n",
        "\n",
        "\n",
        "#Funcion de graficado\n",
        "\n",
        "def plt_regression(x, y, b):\n",
        "    plt.scatter(x, y, color = \"g\", marker = \"o\", s=30)\n",
        "\n",
        "    y_pred = b[0] + b[1]*x\n",
        "    plt.plot(x, y_pred, color = \"b\")\n",
        "\n",
        "    #etiquetado\n",
        "    plt.xlabel('x-independiente')\n",
        "    plt.ylabel('y-dependiente')\n",
        "\n",
        "    plt.show()\n",
        "\n",
        "#Main\n",
        "\n",
        "def main():\n",
        "\n",
        "  #Dataset\n",
        "  x = np.array([1,2,3,4,5])\n",
        "  y = np.array([2,3,5,6,5])\n",
        "\n",
        "  #Obtenemos b1 y b2\n",
        "\n",
        "  b = estimate_b0_b1(x, y)\n",
        "  print(\"Los valores b0 = {}, b1 = {}\".format(b[0], b[1]))\n",
        "\n",
        "  # Graficamos nuestra linea regresion\n",
        "  plt_regression(x, y, b)\n",
        "\n",
        "if __name__== \"__main__\":\n",
        "  main()"
      ],
      "execution_count": 6,
      "outputs": [
        {
          "output_type": "stream",
          "text": [
            "Los valores b0 = 1.5, b1 = 0.9\n"
          ],
          "name": "stdout"
        },
        {
          "output_type": "display_data",
          "data": {
            "image/png": "[encoded data removed]",
            "text/plain": [
              "<Figure size 432x288 with 1 Axes>"
            ]
          },
          "metadata": {
            "tags": []
          }
        }
      ]
    }
  ]
}